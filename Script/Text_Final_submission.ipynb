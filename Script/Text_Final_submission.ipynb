{
 "cells": [
  {
   "cell_type": "markdown",
   "metadata": {},
   "source": [
    "# Assignment 2 - Edmund's forum\n",
    "### Names : Anisha Garg, Catherine McNabb, Cuiting Zhong, Lining Jiang, Kirti Pande "
   ]
  },
  {
   "cell_type": "markdown",
   "metadata": {},
   "source": [
    "## 1.\n",
    "#### Develop a crawler/scraper using Selenium to fetch messages posted in Edmunds.com discussion forums. The crawler output should be a .csv file with the following columns: date, userid, and message (even though you will only use the messages in your analysis). Before you develop the crawler, carefully study one of the forums on Edmunds.com to understand the html as well as the threading structures. "
   ]
  },
  {
   "cell_type": "code",
   "execution_count": null,
   "metadata": {},
   "outputs": [],
   "source": [
    "#Creating  webdriver instance for scrapper\n",
    "from selenium import webdriver\n",
    "chrome_path = r'C:\\Users\\kirti\\Downloads\\chromedriver_win32\\chromedriver.exe'"
   ]
  },
  {
   "cell_type": "code",
   "execution_count": 2,
   "metadata": {},
   "outputs": [],
   "source": [
    "#Opeining chrome\n",
    "driver = webdriver.Chrome(chrome_path)"
   ]
  },
  {
   "cell_type": "code",
   "execution_count": 6,
   "metadata": {},
   "outputs": [],
   "source": [
    "#Going to the website in chrome\n",
    "driver.get(\"https://forums.edmunds.com/categories/jaguar\")"
   ]
  },
  {
   "cell_type": "code",
   "execution_count": 7,
   "metadata": {},
   "outputs": [],
   "source": [
    "#For the first Question we have decided to go to the below link,scrape the website and store it in a csv file\n",
    "python_button = driver.find_element_by_link_text(\"2018 Jaguar F-Type Lease Deals and Prices\")\n",
    "python_button.click()"
   ]
  },
  {
   "cell_type": "code",
   "execution_count": 8,
   "metadata": {},
   "outputs": [],
   "source": [
    "#Using Beautiful Soup to get rid of blockQuotes\n",
    "from bs4 import BeautifulSoup\n",
    "cleantext = []\n",
    "def readposts():\n",
    "    soup = BeautifulSoup(driver.page_source, \"html.parser\")\n",
    "    text = soup.find_all('div',{'class':'Message userContent'})\n",
    "    for t in text:\n",
    "        if t.find('blockquote'):\n",
    "            try:\n",
    "                cleantext.append(t.contents[2].strip())\n",
    "            except:\n",
    "                cleantext.append(u\"\")\n",
    "        else:\n",
    "            cleantext.append(t.contents[0].strip()) \n",
    "    return cleantext"
   ]
  },
  {
   "cell_type": "code",
   "execution_count": 9,
   "metadata": {},
   "outputs": [],
   "source": [
    "import pandas as pd\n",
    "d = {'date': [], 'userid': [], 'message': []}\n",
    "df_old = pd.DataFrame(data=d)\n",
    "df_new = pd.DataFrame(data=d)\n",
    "def extract2():\n",
    "    df = pd.DataFrame(data=d)\n",
    "    user = driver.find_elements_by_class_name('Author')\n",
    "    date = driver.find_elements_by_css_selector('.MItem.DateCreated') \n",
    "    posts = readposts()\n",
    "    length = len(user)\n",
    "    for i in range(length):\n",
    "        df.loc[i] = [date[i].text,user[i].text,posts[i]]\n",
    "    df = df.replace('\\n',' ', regex=True)\n",
    "    return df"
   ]
  },
  {
   "cell_type": "code",
   "execution_count": 10,
   "metadata": {},
   "outputs": [],
   "source": [
    "for i in range(7):\n",
    "    xpath = '//*[@id=\"PagerBefore\"]/a[{0}]'.format(str(i+2))\n",
    "    driver.find_element_by_xpath(xpath).click()\n",
    "    df_new = extract2()\n",
    "    df_old = pd.concat([df_old,df_new]).reset_index(drop=True)"
   ]
  },
  {
   "cell_type": "code",
   "execution_count": 11,
   "metadata": {},
   "outputs": [],
   "source": [
    "df_old[df_old[\"message\"] == \"\"] = 0\n",
    "df_old = df_old[df_old['message'] != 0]"
   ]
  },
  {
   "cell_type": "code",
   "execution_count": 9,
   "metadata": {},
   "outputs": [],
   "source": [
    "df_old.to_csv(r'C:\\Users\\kirti\\Downloads\\MSBA\\Text_Analytics\\Assignment_2\\ta2Q1.csv')"
   ]
  },
  {
   "cell_type": "markdown",
   "metadata": {},
   "source": [
    "## 2.\n",
    "#### Fetch around 5,000 posts about cars from a General topics forum. Do NOT choose a forum dedicated to a particular brand or model. Instead, you can choose the General & Sedans categories and then select, for example, the Entry Level Luxury forum https://forums.edmunds.com/discussion/2864/general/x/entry-level-luxury-performance-sedans .The idea is to have multiple brands and models being discussed without one of them being the focal point\n",
    "\n",
    "##### We are using the url : https://forums.edmunds.com/discussion/2864/general/x/entry-level-luxury-performance-sedans\n"
   ]
  },
  {
   "cell_type": "code",
   "execution_count": 16,
   "metadata": {},
   "outputs": [],
   "source": [
    "# Create a new instance and go to the url mentioned above\n",
    "driver = webdriver.Chrome(chrome_path)\n",
    "driver.get(\"https://forums.edmunds.com/discussion/2864/general/x/entry-level-luxury-performance-sedans\")"
   ]
  },
  {
   "cell_type": "code",
   "execution_count": 15,
   "metadata": {},
   "outputs": [],
   "source": [
    "#Scrapping the comments section to obtain posts from page 703 to 500\n",
    "d2 = {'posts': []}\n",
    "cleantext = []\n",
    "for i in range(703,500,-1):\n",
    "    cl = str(i)\n",
    "    driver.find_element_by_link_text(cl).click()\n",
    "    df_post = readposts()"
   ]
  },
  {
   "cell_type": "code",
   "execution_count": 17,
   "metadata": {},
   "outputs": [],
   "source": [
    "#Since we got rid of blockquotes in the process; the empty entries after removing them are being filtered out\n",
    "length = len(df_post)\n",
    "df_o_post = list()\n",
    "for i in range(length):\n",
    "        if(df_post[i] !=''):\n",
    "            df_o_post.append(df_post[i])"
   ]
  },
  {
   "cell_type": "code",
   "execution_count": 18,
   "metadata": {},
   "outputs": [],
   "source": [
    "df_o_post = pd.Series(df_o_post)"
   ]
  },
  {
   "cell_type": "code",
   "execution_count": 19,
   "metadata": {},
   "outputs": [],
   "source": [
    "#Writing 6000 entries to be on a safer side \n",
    "df_o_post = pd.Series(df_o_post.iloc[:6000])\n",
    "df_o_post.to_csv(r'C:\\Users\\kirti\\Downloads\\MSBA\\Text_Analytics\\Assignment_2\\ta2Q2.csv')"
   ]
  },
  {
   "cell_type": "markdown",
   "metadata": {},
   "source": [
    "## 3.\n",
    "#### Once you fetch the data, find the top 10 brands from frequency counts. You will need to write a script to count the frequencies. Be sure not to count a mention more than once per post, even if it is mentioned multiple times. Replace models with brands so that from now on you have to deal with only brands and not models. You will need another script for this job. This step is meant to help simplify the analysis. A list of model and brand names (not exhaustive) are provided in a separate file.   "
   ]
  },
  {
   "cell_type": "code",
   "execution_count": 142,
   "metadata": {},
   "outputs": [],
   "source": [
    "#Importing the data we fetched\n",
    "import pandas as pd\n",
    "import re\n",
    "file_encoding = 'cp1252'\n",
    "df_posts=pd.read_csv(r'C:\\Users\\kirti\\Downloads\\MSBA\\Text_Analytics\\Assignment_2\\ta2Q2.csv',header=None)\n",
    "s_post=df_posts[1]\n",
    "s_post=s_post[s_post.notnull()]\n",
    "\n",
    "brand_model = pd.read_csv(r'C:\\Users\\kirti\\Downloads\\MSBA\\Text_Analytics\\Assignment_2\\models.csv',encoding=file_encoding)\n",
    "\n",
    "s_brand=brand_model['brand'].map(lambda x:x.lower())\n",
    "s_brand=s_brand.map(lambda x:x.replace('.','').replace(',','').replace('-',' '))\n",
    "s_model=brand_model['model'].map(lambda x:x.lower())\n",
    "s_model=s_model.map(lambda x:x.replace('?',''))"
   ]
  },
  {
   "cell_type": "code",
   "execution_count": 143,
   "metadata": {},
   "outputs": [],
   "source": [
    "#Converting the model into brand\n",
    "import re\n",
    "s_post_converted=s_post.map(lambda x:x.lower())\n",
    "\n",
    "for i,m in enumerate(s_model):\n",
    "    s_post_converted=s_post_converted.map(lambda x:re.sub(str(m), s_brand[i],str(x)))"
   ]
  },
  {
   "cell_type": "code",
   "execution_count": 144,
   "metadata": {},
   "outputs": [
    {
     "data": {
      "text/plain": [
       "array(['acura', 'audi', 'bmw', 'buick', 'cadillac', 'car', 'chevrolet',\n",
       "       'chrysler', 'dodge', 'ford', 'honda', 'hyndai kia', 'hyundai',\n",
       "       'infiniti', 'kia', 'lincoln', 'mazda', 'mercedes', 'mercedes benz',\n",
       "       'mercury', 'mitsubishi', 'nissan', 'pontiac', 'problem', 'saturn',\n",
       "       'seat', 'sedan', 'subaru', 'suzuki', 'toyata', 'toyota',\n",
       "       'volkswagen', 'volkwagen', 'volvo'], dtype=object)"
      ]
     },
     "execution_count": 144,
     "metadata": {},
     "output_type": "execute_result"
    }
   ],
   "source": [
    "#unique brand in the 'brand list' provided, but we can see that there are some words that are not brand, like 'seat', 'problem', etc.\n",
    "brands=s_brand.unique()\n",
    "brands"
   ]
  },
  {
   "cell_type": "code",
   "execution_count": 145,
   "metadata": {},
   "outputs": [],
   "source": [
    "#based on the above 'brand list', we make a new true brand list\n",
    "brands_edited=['acura', 'audi', 'bmw', 'buick', 'cadillac',  'chevrolet',\n",
    "       'chrysler', 'dodge', 'ford', 'honda', 'hyundai',\n",
    "       'infiniti', 'kia', 'lincoln', 'mazda', 'mercedes', \n",
    "       'mercury', 'mitsubishi', 'nissan', 'pontiac',  'saturn', 'subaru', 'suzuki', 'toyota',\n",
    "       'volkswagen', 'volvo']"
   ]
  },
  {
   "cell_type": "code",
   "execution_count": 146,
   "metadata": {},
   "outputs": [],
   "source": [
    "#For each post, we check for if each brand in it\n",
    "def brand_in_it(brand,post):\n",
    "    ''' to check if a brand in a post'''\n",
    "    if brand in post:\n",
    "        return 1\n",
    "    else: \n",
    "        return 0\n",
    "\n",
    "temp={'post': s_post_converted}\n",
    "for brand in brands_edited:\n",
    "    temp[brand]=s_post_converted.map(lambda x:brand_in_it(brand,x))"
   ]
  },
  {
   "cell_type": "code",
   "execution_count": 188,
   "metadata": {},
   "outputs": [
    {
     "name": "stdout",
     "output_type": "stream",
     "text": [
      "Top 10 brands: \n",
      " bmw           702\n",
      "audi          554\n",
      "acura         296\n",
      "honda         218\n",
      "chrysler      157\n",
      "volkswagen    152\n",
      "infiniti      148\n",
      "ford          128\n",
      "nissan        122\n",
      "hyundai       118\n",
      "dtype: int64\n"
     ]
    }
   ],
   "source": [
    "#Top 10 brands from the frequency counts are as follows\n",
    "df2=pd.DataFrame(temp) \n",
    "#df2: first column is posts with each post in each cell, second column and after are brand names with binary value in each cell\n",
    "s_A=df2.drop('post',axis=1).sum() \n",
    "s_A = s_A.sort_values(ascending=False).head(10)\n",
    "print (\"Top 10 brands:\\n\", s_A)"
   ]
  },
  {
   "cell_type": "markdown",
   "metadata": {},
   "source": [
    "## Task A:\n",
    "#### Identify top 10 brands by frequency. From the posts, calculate lift ratios for associations between the brands. You will have to write a script to do this task). Show the brands on a multi-dimensional scaling (MDS) map (use a Python script for MDS, there are multiple scripts available on the Internet). "
   ]
  },
  {
   "cell_type": "code",
   "execution_count": 148,
   "metadata": {},
   "outputs": [
    {
     "data": {
      "text/plain": [
       "array(['bmw', 'audi', 'acura', 'honda', 'chrysler', 'volkswagen',\n",
       "       'infiniti', 'ford', 'nissan', 'hyundai'], dtype=object)"
      ]
     },
     "execution_count": 148,
     "metadata": {},
     "output_type": "execute_result"
    }
   ],
   "source": [
    "#Top 10 brands by frequency\n",
    "brands_edited_top_10 = s_A.index.values\n",
    "brands_edited_top_10"
   ]
  },
  {
   "cell_type": "code",
   "execution_count": 149,
   "metadata": {},
   "outputs": [],
   "source": [
    "#association of brand A and brand B\n",
    "def brandAB_in_it(brandA,brandB,post):\n",
    "    if brandA in post and brandB in post:\n",
    "        return 1\n",
    "    else: \n",
    "        return 0\n",
    "temp2={'post': s_post_converted}\n",
    "\n",
    "#Filterign for only the top 10 brands\n",
    "for brandA in brands_edited_top_10:\n",
    "    for brandB in brands_edited_top_10:\n",
    "        temp2[brandA+', '+brandB]=s_post_converted.map(lambda x:brandAB_in_it(brandA,brandB,x))"
   ]
  },
  {
   "cell_type": "code",
   "execution_count": 150,
   "metadata": {},
   "outputs": [],
   "source": [
    "df3=pd.DataFrame(temp2)\n",
    "df4=df3.drop('post',axis=1)"
   ]
  },
  {
   "cell_type": "code",
   "execution_count": 151,
   "metadata": {},
   "outputs": [],
   "source": [
    "m_AB=df4.sum().values.reshape([10,10])  #get the count of association\n",
    "df_AB=pd.DataFrame(m_AB)\n",
    "#setting the column name and index\n",
    "df_AB.columns=brands_edited_top_10\n",
    "df_AB=df_AB.set_index(pd.Series(brands_edited_top_10))"
   ]
  },
  {
   "cell_type": "code",
   "execution_count": 152,
   "metadata": {
    "scrolled": true
   },
   "outputs": [
    {
     "data": {
      "text/html": [
       "<div>\n",
       "<style scoped>\n",
       "    .dataframe tbody tr th:only-of-type {\n",
       "        vertical-align: middle;\n",
       "    }\n",
       "\n",
       "    .dataframe tbody tr th {\n",
       "        vertical-align: top;\n",
       "    }\n",
       "\n",
       "    .dataframe thead th {\n",
       "        text-align: right;\n",
       "    }\n",
       "</style>\n",
       "<table border=\"1\" class=\"dataframe\">\n",
       "  <thead>\n",
       "    <tr style=\"text-align: right;\">\n",
       "      <th></th>\n",
       "      <th>bmw</th>\n",
       "      <th>audi</th>\n",
       "      <th>acura</th>\n",
       "      <th>honda</th>\n",
       "      <th>chrysler</th>\n",
       "      <th>volkswagen</th>\n",
       "      <th>infiniti</th>\n",
       "      <th>ford</th>\n",
       "      <th>nissan</th>\n",
       "      <th>hyundai</th>\n",
       "    </tr>\n",
       "  </thead>\n",
       "  <tbody>\n",
       "    <tr>\n",
       "      <th>bmw</th>\n",
       "      <td>6.500000</td>\n",
       "      <td>1.454874</td>\n",
       "      <td>1.229730</td>\n",
       "      <td>1.162844</td>\n",
       "      <td>0.414013</td>\n",
       "      <td>0.684211</td>\n",
       "      <td>1.581081</td>\n",
       "      <td>1.472656</td>\n",
       "      <td>1.385246</td>\n",
       "      <td>1.211864</td>\n",
       "    </tr>\n",
       "    <tr>\n",
       "      <th>audi</th>\n",
       "      <td>1.454874</td>\n",
       "      <td>8.236462</td>\n",
       "      <td>1.697379</td>\n",
       "      <td>1.133458</td>\n",
       "      <td>1.206615</td>\n",
       "      <td>2.763550</td>\n",
       "      <td>3.227803</td>\n",
       "      <td>1.029558</td>\n",
       "      <td>1.620288</td>\n",
       "      <td>1.326210</td>\n",
       "    </tr>\n",
       "    <tr>\n",
       "      <th>acura</th>\n",
       "      <td>1.229730</td>\n",
       "      <td>1.697379</td>\n",
       "      <td>15.415541</td>\n",
       "      <td>4.879231</td>\n",
       "      <td>5.007596</td>\n",
       "      <td>0.912762</td>\n",
       "      <td>3.228931</td>\n",
       "      <td>1.083905</td>\n",
       "      <td>1.263569</td>\n",
       "      <td>1.437042</td>\n",
       "    </tr>\n",
       "    <tr>\n",
       "      <th>honda</th>\n",
       "      <td>1.162844</td>\n",
       "      <td>1.133458</td>\n",
       "      <td>4.879231</td>\n",
       "      <td>20.931193</td>\n",
       "      <td>4.266230</td>\n",
       "      <td>2.478694</td>\n",
       "      <td>1.272843</td>\n",
       "      <td>2.943449</td>\n",
       "      <td>2.230373</td>\n",
       "      <td>1.241681</td>\n",
       "    </tr>\n",
       "    <tr>\n",
       "      <th>chrysler</th>\n",
       "      <td>0.414013</td>\n",
       "      <td>1.206615</td>\n",
       "      <td>5.007596</td>\n",
       "      <td>4.266230</td>\n",
       "      <td>29.063694</td>\n",
       "      <td>0.573626</td>\n",
       "      <td>0.589129</td>\n",
       "      <td>1.816481</td>\n",
       "      <td>0.238227</td>\n",
       "      <td>0.738907</td>\n",
       "    </tr>\n",
       "    <tr>\n",
       "      <th>volkswagen</th>\n",
       "      <td>0.684211</td>\n",
       "      <td>2.763550</td>\n",
       "      <td>0.912762</td>\n",
       "      <td>2.478694</td>\n",
       "      <td>0.573626</td>\n",
       "      <td>30.019737</td>\n",
       "      <td>0.000000</td>\n",
       "      <td>4.221525</td>\n",
       "      <td>1.968507</td>\n",
       "      <td>2.035236</td>\n",
       "    </tr>\n",
       "    <tr>\n",
       "      <th>infiniti</th>\n",
       "      <td>1.581081</td>\n",
       "      <td>3.227803</td>\n",
       "      <td>3.228931</td>\n",
       "      <td>1.272843</td>\n",
       "      <td>0.589129</td>\n",
       "      <td>0.000000</td>\n",
       "      <td>30.831081</td>\n",
       "      <td>0.722603</td>\n",
       "      <td>3.032565</td>\n",
       "      <td>0.783841</td>\n",
       "    </tr>\n",
       "    <tr>\n",
       "      <th>ford</th>\n",
       "      <td>1.472656</td>\n",
       "      <td>1.029558</td>\n",
       "      <td>1.083905</td>\n",
       "      <td>2.943449</td>\n",
       "      <td>1.816481</td>\n",
       "      <td>4.221525</td>\n",
       "      <td>0.722603</td>\n",
       "      <td>35.648438</td>\n",
       "      <td>1.168801</td>\n",
       "      <td>1.510527</td>\n",
       "    </tr>\n",
       "    <tr>\n",
       "      <th>nissan</th>\n",
       "      <td>1.385246</td>\n",
       "      <td>1.620288</td>\n",
       "      <td>1.263569</td>\n",
       "      <td>2.230373</td>\n",
       "      <td>0.238227</td>\n",
       "      <td>1.968507</td>\n",
       "      <td>3.032565</td>\n",
       "      <td>1.168801</td>\n",
       "      <td>37.401639</td>\n",
       "      <td>2.218741</td>\n",
       "    </tr>\n",
       "    <tr>\n",
       "      <th>hyundai</th>\n",
       "      <td>1.211864</td>\n",
       "      <td>1.326210</td>\n",
       "      <td>1.437042</td>\n",
       "      <td>1.241681</td>\n",
       "      <td>0.738907</td>\n",
       "      <td>2.035236</td>\n",
       "      <td>0.783841</td>\n",
       "      <td>1.510527</td>\n",
       "      <td>2.218741</td>\n",
       "      <td>38.669492</td>\n",
       "    </tr>\n",
       "  </tbody>\n",
       "</table>\n",
       "</div>"
      ],
      "text/plain": [
       "                 bmw      audi      acura      honda   chrysler  volkswagen  \\\n",
       "bmw         6.500000  1.454874   1.229730   1.162844   0.414013    0.684211   \n",
       "audi        1.454874  8.236462   1.697379   1.133458   1.206615    2.763550   \n",
       "acura       1.229730  1.697379  15.415541   4.879231   5.007596    0.912762   \n",
       "honda       1.162844  1.133458   4.879231  20.931193   4.266230    2.478694   \n",
       "chrysler    0.414013  1.206615   5.007596   4.266230  29.063694    0.573626   \n",
       "volkswagen  0.684211  2.763550   0.912762   2.478694   0.573626   30.019737   \n",
       "infiniti    1.581081  3.227803   3.228931   1.272843   0.589129    0.000000   \n",
       "ford        1.472656  1.029558   1.083905   2.943449   1.816481    4.221525   \n",
       "nissan      1.385246  1.620288   1.263569   2.230373   0.238227    1.968507   \n",
       "hyundai     1.211864  1.326210   1.437042   1.241681   0.738907    2.035236   \n",
       "\n",
       "             infiniti       ford     nissan    hyundai  \n",
       "bmw          1.581081   1.472656   1.385246   1.211864  \n",
       "audi         3.227803   1.029558   1.620288   1.326210  \n",
       "acura        3.228931   1.083905   1.263569   1.437042  \n",
       "honda        1.272843   2.943449   2.230373   1.241681  \n",
       "chrysler     0.589129   1.816481   0.238227   0.738907  \n",
       "volkswagen   0.000000   4.221525   1.968507   2.035236  \n",
       "infiniti    30.831081   0.722603   3.032565   0.783841  \n",
       "ford         0.722603  35.648438   1.168801   1.510527  \n",
       "nissan       3.032565   1.168801  37.401639   2.218741  \n",
       "hyundai      0.783841   1.510527   2.218741  38.669492  "
      ]
     },
     "execution_count": 152,
     "metadata": {},
     "output_type": "execute_result"
    }
   ],
   "source": [
    "N=len(s_post)\n",
    "df_lift=df_AB.copy()\n",
    "#Lift calculation for top 10 brands\n",
    "for i in range(10):\n",
    "    for j in range(10):\n",
    "        df_lift.iloc[i,j]=N*df_AB.iloc[i,j]/(s_A[i]*s_A[j])\n",
    "df_lift"
   ]
  },
  {
   "cell_type": "code",
   "execution_count": 153,
   "metadata": {
    "scrolled": true
   },
   "outputs": [
    {
     "data": {
      "text/html": [
       "<div>\n",
       "<style scoped>\n",
       "    .dataframe tbody tr th:only-of-type {\n",
       "        vertical-align: middle;\n",
       "    }\n",
       "\n",
       "    .dataframe tbody tr th {\n",
       "        vertical-align: top;\n",
       "    }\n",
       "\n",
       "    .dataframe thead th {\n",
       "        text-align: right;\n",
       "    }\n",
       "</style>\n",
       "<table border=\"1\" class=\"dataframe\">\n",
       "  <thead>\n",
       "    <tr style=\"text-align: right;\">\n",
       "      <th></th>\n",
       "      <th>bmw</th>\n",
       "      <th>audi</th>\n",
       "      <th>acura</th>\n",
       "      <th>honda</th>\n",
       "      <th>chrysler</th>\n",
       "      <th>volkswagen</th>\n",
       "      <th>infiniti</th>\n",
       "      <th>ford</th>\n",
       "      <th>nissan</th>\n",
       "      <th>hyundai</th>\n",
       "    </tr>\n",
       "  </thead>\n",
       "  <tbody>\n",
       "    <tr>\n",
       "      <th>bmw</th>\n",
       "      <td>0.000000</td>\n",
       "      <td>0.687345</td>\n",
       "      <td>0.813187</td>\n",
       "      <td>0.859961</td>\n",
       "      <td>2.415385</td>\n",
       "      <td>1.461538</td>\n",
       "      <td>0.632479</td>\n",
       "      <td>0.679045</td>\n",
       "      <td>0.721893</td>\n",
       "      <td>0.825175</td>\n",
       "    </tr>\n",
       "    <tr>\n",
       "      <th>audi</th>\n",
       "      <td>0.687345</td>\n",
       "      <td>0.000000</td>\n",
       "      <td>0.589144</td>\n",
       "      <td>0.882256</td>\n",
       "      <td>0.828764</td>\n",
       "      <td>0.361853</td>\n",
       "      <td>0.309808</td>\n",
       "      <td>0.971291</td>\n",
       "      <td>0.617174</td>\n",
       "      <td>0.754028</td>\n",
       "    </tr>\n",
       "    <tr>\n",
       "      <th>acura</th>\n",
       "      <td>0.813187</td>\n",
       "      <td>0.589144</td>\n",
       "      <td>0.000000</td>\n",
       "      <td>0.204950</td>\n",
       "      <td>0.199697</td>\n",
       "      <td>1.095576</td>\n",
       "      <td>0.309700</td>\n",
       "      <td>0.922590</td>\n",
       "      <td>0.791409</td>\n",
       "      <td>0.695874</td>\n",
       "    </tr>\n",
       "    <tr>\n",
       "      <th>honda</th>\n",
       "      <td>0.859961</td>\n",
       "      <td>0.882256</td>\n",
       "      <td>0.204950</td>\n",
       "      <td>0.000000</td>\n",
       "      <td>0.234399</td>\n",
       "      <td>0.403438</td>\n",
       "      <td>0.785643</td>\n",
       "      <td>0.339738</td>\n",
       "      <td>0.448356</td>\n",
       "      <td>0.805360</td>\n",
       "    </tr>\n",
       "    <tr>\n",
       "      <th>chrysler</th>\n",
       "      <td>2.415385</td>\n",
       "      <td>0.828764</td>\n",
       "      <td>0.199697</td>\n",
       "      <td>0.234399</td>\n",
       "      <td>0.000000</td>\n",
       "      <td>1.743298</td>\n",
       "      <td>1.697421</td>\n",
       "      <td>0.550515</td>\n",
       "      <td>4.197677</td>\n",
       "      <td>1.353349</td>\n",
       "    </tr>\n",
       "    <tr>\n",
       "      <th>volkswagen</th>\n",
       "      <td>1.461538</td>\n",
       "      <td>0.361853</td>\n",
       "      <td>1.095576</td>\n",
       "      <td>0.403438</td>\n",
       "      <td>1.743298</td>\n",
       "      <td>0.000000</td>\n",
       "      <td>inf</td>\n",
       "      <td>0.236881</td>\n",
       "      <td>0.507999</td>\n",
       "      <td>0.491343</td>\n",
       "    </tr>\n",
       "    <tr>\n",
       "      <th>infiniti</th>\n",
       "      <td>0.632479</td>\n",
       "      <td>0.309808</td>\n",
       "      <td>0.309700</td>\n",
       "      <td>0.785643</td>\n",
       "      <td>1.697421</td>\n",
       "      <td>inf</td>\n",
       "      <td>0.000000</td>\n",
       "      <td>1.383885</td>\n",
       "      <td>0.329754</td>\n",
       "      <td>1.275769</td>\n",
       "    </tr>\n",
       "    <tr>\n",
       "      <th>ford</th>\n",
       "      <td>0.679045</td>\n",
       "      <td>0.971291</td>\n",
       "      <td>0.922590</td>\n",
       "      <td>0.339738</td>\n",
       "      <td>0.550515</td>\n",
       "      <td>0.236881</td>\n",
       "      <td>1.383885</td>\n",
       "      <td>0.000000</td>\n",
       "      <td>0.855577</td>\n",
       "      <td>0.662021</td>\n",
       "    </tr>\n",
       "    <tr>\n",
       "      <th>nissan</th>\n",
       "      <td>0.721893</td>\n",
       "      <td>0.617174</td>\n",
       "      <td>0.791409</td>\n",
       "      <td>0.448356</td>\n",
       "      <td>4.197677</td>\n",
       "      <td>0.507999</td>\n",
       "      <td>0.329754</td>\n",
       "      <td>0.855577</td>\n",
       "      <td>0.000000</td>\n",
       "      <td>0.450706</td>\n",
       "    </tr>\n",
       "    <tr>\n",
       "      <th>hyundai</th>\n",
       "      <td>0.825175</td>\n",
       "      <td>0.754028</td>\n",
       "      <td>0.695874</td>\n",
       "      <td>0.805360</td>\n",
       "      <td>1.353349</td>\n",
       "      <td>0.491343</td>\n",
       "      <td>1.275769</td>\n",
       "      <td>0.662021</td>\n",
       "      <td>0.450706</td>\n",
       "      <td>0.000000</td>\n",
       "    </tr>\n",
       "  </tbody>\n",
       "</table>\n",
       "</div>"
      ],
      "text/plain": [
       "                 bmw      audi     acura     honda  chrysler  volkswagen  \\\n",
       "bmw         0.000000  0.687345  0.813187  0.859961  2.415385    1.461538   \n",
       "audi        0.687345  0.000000  0.589144  0.882256  0.828764    0.361853   \n",
       "acura       0.813187  0.589144  0.000000  0.204950  0.199697    1.095576   \n",
       "honda       0.859961  0.882256  0.204950  0.000000  0.234399    0.403438   \n",
       "chrysler    2.415385  0.828764  0.199697  0.234399  0.000000    1.743298   \n",
       "volkswagen  1.461538  0.361853  1.095576  0.403438  1.743298    0.000000   \n",
       "infiniti    0.632479  0.309808  0.309700  0.785643  1.697421         inf   \n",
       "ford        0.679045  0.971291  0.922590  0.339738  0.550515    0.236881   \n",
       "nissan      0.721893  0.617174  0.791409  0.448356  4.197677    0.507999   \n",
       "hyundai     0.825175  0.754028  0.695874  0.805360  1.353349    0.491343   \n",
       "\n",
       "            infiniti      ford    nissan   hyundai  \n",
       "bmw         0.632479  0.679045  0.721893  0.825175  \n",
       "audi        0.309808  0.971291  0.617174  0.754028  \n",
       "acura       0.309700  0.922590  0.791409  0.695874  \n",
       "honda       0.785643  0.339738  0.448356  0.805360  \n",
       "chrysler    1.697421  0.550515  4.197677  1.353349  \n",
       "volkswagen       inf  0.236881  0.507999  0.491343  \n",
       "infiniti    0.000000  1.383885  0.329754  1.275769  \n",
       "ford        1.383885  0.000000  0.855577  0.662021  \n",
       "nissan      0.329754  0.855577  0.000000  0.450706  \n",
       "hyundai     1.275769  0.662021  0.450706  0.000000  "
      ]
     },
     "execution_count": 153,
     "metadata": {},
     "output_type": "execute_result"
    }
   ],
   "source": [
    "#Dissimilarity Matrix\n",
    "df_lift_r=1/df_lift\n",
    "\n",
    "for i in range(10):\n",
    "    df_lift_r.iloc[i,i]=0\n",
    "df_lift_r"
   ]
  },
  {
   "cell_type": "markdown",
   "metadata": {},
   "source": [
    "#### MDS plot code"
   ]
  },
  {
   "cell_type": "code",
   "execution_count": 154,
   "metadata": {},
   "outputs": [],
   "source": [
    "m_lift=df_lift_r.values\n",
    "from sklearn import manifold\n",
    "import matplotlib.pyplot as plt\n",
    "import seaborn\n",
    "import numpy as np\n",
    "import sklearn\n",
    "\n",
    "MDS_cars = sklearn.manifold.MDS(n_components=2, metric=True, dissimilarity='precomputed')\n",
    "\n",
    "#Operations on dissimilarity matrix to read into MDS function\n",
    "dissimilarity = df_lift_r.replace([np.inf, -np.inf], np.nan)\n",
    "dissimilarity.fillna(999, inplace=True)\n",
    "npos = MDS_cars.fit_transform(dissimilarity)\n",
    "\n",
    "seed = np.random.RandomState(seed=99)\n",
    "mds = manifold.MDS(n_components=2, max_iter=20000, random_state=seed,\n",
    "                   dissimilarity=\"precomputed\", n_jobs=1)\n",
    "x_mds= mds.fit(dissimilarity.astype(np.float32)).embedding_\n",
    "x_mds = x_mds[[0,1,2,3,4,7,8,9]]  #removing the outliers"
   ]
  },
  {
   "cell_type": "code",
   "execution_count": 240,
   "metadata": {},
   "outputs": [
    {
     "data": {
      "image/png": "[encoded data removed]",
      "text/plain": [
       "<Figure size 720x576 with 1 Axes>"
      ]
     },
     "metadata": {},
     "output_type": "display_data"
    }
   ],
   "source": [
    "fig = plt.figure(figsize=(10, 8))\n",
    "x=x_mds[:,0]\n",
    "y=x_mds[:,1]\n",
    "\n",
    "label=df_lift.columns.values\n",
    "plt.scatter(x, y)\n",
    "for i in range(8):\n",
    "    plt.text(x[i]-0.02,y[i]+0.03,label[i])\n",
    "plt.show()"
   ]
  },
  {
   "cell_type": "markdown",
   "metadata": {},
   "source": [
    "## Task B\n",
    "\n"
   ]
  },
  {
   "cell_type": "markdown",
   "metadata": {},
   "source": [
    "## Task C: \n",
    "#### What are 5 most frequently mentioned attributes of cars in the discussions? Note that the same attribute may be described by different words – e.g., pick-up and acceleration may both refer to a more general attribute, “performance”. You have to make suitable replacements. Now pick the 5 most frequently mentioned brands. Which attributes are most strongly associated with which of these 5 brands? You DON’T have to do a sentiment analysis for this assignment."
   ]
  },
  {
   "cell_type": "code",
   "execution_count": 156,
   "metadata": {},
   "outputs": [],
   "source": [
    "import pandas as pd\n",
    "import re\n",
    "df_posts=pd.read_csv(r'C:\\Users\\kirti\\Downloads\\MSBA\\Text_Analytics\\Assignment_2\\ta2Q2.csv',header=None)\n",
    "s_post=df_posts[1]\n",
    "s_post=s_post[s_post.notnull()]\n",
    "\n",
    "brands = ['acura', 'audi', 'bmw', 'buick', 'cadillac',  'chevrolet',\n",
    "       'chrysler', 'dodge', 'ford', 'honda', 'hyundai',\n",
    "       'infiniti', 'kia', 'lincoln', 'mazda', 'mercedes',\n",
    "       'mercury', 'mitsubishi', 'nissan', 'pontiac',  'saturn', 'subaru', 'suzuki', 'toyota',\n",
    "       'volkswagen', 'volvo']\n",
    "\n",
    "brand_model = pd.read_csv(r'C:\\Users\\kirti\\Downloads\\MSBA\\Text_Analytics\\Assignment_2\\models_new.csv',encoding=file_encoding)\n",
    "#Cleaning basic text\n",
    "s_brand=brand_model['Brand'].map(lambda x:x.lower())\n",
    "s_brand=s_brand.map(lambda x:x.replace('.','').replace(',','').replace('-',' '))\n",
    "s_model=brand_model['Model'].map(lambda x:x.lower())\n",
    "s_model=s_model.map(lambda x:x.replace('?',''))\n",
    "\n",
    "sub_super=pd.read_csv(r'C:\\Users\\kirti\\Downloads\\MSBA\\Text_Analytics\\Assignment_2\\attributes.csv')\n",
    "attribute_dict = dict(zip(sub_super.iloc[:,0], sub_super.iloc[:,1]))"
   ]
  },
  {
   "cell_type": "code",
   "execution_count": 157,
   "metadata": {},
   "outputs": [],
   "source": [
    "import re\n",
    "s_post_converted=s_post.map(lambda x:x.lower())\n",
    "\n",
    "for i,m in enumerate(s_model):\n",
    "    s_post_converted=s_post_converted.map(lambda x:re.sub(str(m), s_brand[i],str(x)))"
   ]
  },
  {
   "cell_type": "code",
   "execution_count": 158,
   "metadata": {},
   "outputs": [],
   "source": [
    "def remove_pun(text):\n",
    "    '''remove all those punctuations\n",
    "    and add a space before and after each brand name'''\n",
    "    pun=['.',',',';',':','\\\\','?','(',')','-','\"','/','\\'s']\n",
    "    for p in pun:\n",
    "        text=text.replace(p,' ')\n",
    "    for brand in brands:\n",
    "        text=text.replace(brand,' '+brand+' ')\n",
    "    return text\n",
    "\n",
    "posts_nopun=s_post_converted.map(lambda x:remove_pun(str(x)))"
   ]
  },
  {
   "cell_type": "code",
   "execution_count": 159,
   "metadata": {},
   "outputs": [],
   "source": [
    "from nltk.corpus import stopwords\n",
    "\n",
    "def remove_stp(text):\n",
    "    '''remove stopwords'''\n",
    "    stp_removed = ' '.join([word for word in text.split() if word not in stopwords.words('english')])\n",
    "    return stp_removed\n",
    "\n",
    "posts_nostp=posts_nopun.map(lambda x:remove_stp(x))"
   ]
  },
  {
   "cell_type": "code",
   "execution_count": 160,
   "metadata": {},
   "outputs": [],
   "source": [
    "# first check if a brand in a text and import re\n",
    "def find_idx(brand, text): \n",
    "    ''' find the indexs of a brand in a post;\n",
    "        check if a brand in a post first,\n",
    "        and need to import re'''\n",
    "    total_count=len(re.findall(brand,text))\n",
    "    token=text.split()\n",
    "    idx_temp = token.index(brand)\n",
    "    idx=idx_temp\n",
    "    idx_list=[idx]\n",
    "    count=1\n",
    "    while idx<len(token) and count<total_count:\n",
    "        idx_temp = token[idx+1:].index(brand)\n",
    "        idx=idx+idx_temp+1\n",
    "        idx_list.append(idx) \n",
    "        count+=1\n",
    "    return idx_list"
   ]
  },
  {
   "cell_type": "code",
   "execution_count": 161,
   "metadata": {},
   "outputs": [],
   "source": [
    "def features(brand,text):\n",
    "    '''find feature list for a brand in a post\n",
    "    using find_idx function to get the indexs of a brand in a post,\n",
    "    and then take +5 and -5 words based on these indexs'''\n",
    "    idx_list=find_idx(brand,text)\n",
    "    token=text.split()\n",
    "    feature_list=[]\n",
    "    for i in idx_list:\n",
    "        feature_list=feature_list+token[max(0,i-5):i]+token[i+1:min(i+6,len(token))]\n",
    "    return feature_list"
   ]
  },
  {
   "cell_type": "code",
   "execution_count": 162,
   "metadata": {},
   "outputs": [],
   "source": [
    "def find_attr(brand, text):\n",
    "    '''find the unique general attribute in a post for a brand\n",
    "       convert the features into general attributes using pre-defined attribute_dict'''\n",
    "    if brand in text:\n",
    "        f=features(brand, text)\n",
    "        attribute=pd.Series([attribute_dict.get(w) for w in f])\n",
    "        attribute=attribute[attribute.notnull()]\n",
    "        result=list(attribute)#.unique()) \n",
    "    else:\n",
    "        result=[]\n",
    "    return result"
   ]
  },
  {
   "cell_type": "code",
   "execution_count": 164,
   "metadata": {},
   "outputs": [
    {
     "data": {
      "text/plain": [
       "performance       2432\n",
       "comfort            514\n",
       "sustainability     473\n",
       "cost               462\n",
       "mpg                365\n",
       "safety             241\n",
       "appearance         219\n",
       "emission            27\n",
       "dtype: int64"
      ]
     },
     "execution_count": 164,
     "metadata": {},
     "output_type": "execute_result"
    }
   ],
   "source": [
    "# find the top 5 most frequently mentioned attributes\n",
    "def find_total_attr(text):\n",
    "    '''find any atribute mentioned in a post'''\n",
    "    attribute=pd.Series([attribute_dict.get(w) for w in text.split()])\n",
    "    attribute=attribute[attribute.notnull()]\n",
    "    return list(attribute)\n",
    "\n",
    "total_attr=posts_nostp.map(lambda x:find_total_attr(x)).sum()\n",
    "pd.Series(total_attr).value_counts()"
   ]
  },
  {
   "cell_type": "code",
   "execution_count": 249,
   "metadata": {},
   "outputs": [],
   "source": [
    "# find the top 5 most frequently mentioned attributes associated with a brand\n",
    "# top 5 brand: bmw, audi, honda, acura, chrysler\n",
    "top_brand=['bmw', 'chrysler', 'audi', 'honda', 'acura']\n",
    "attr={}\n",
    "for brand in top_brand:\n",
    "    attr[brand]=posts_nostp.map(lambda x:find_attr(brand,x))"
   ]
  },
  {
   "cell_type": "code",
   "execution_count": 250,
   "metadata": {},
   "outputs": [],
   "source": [
    "s_bmw=pd.Series(attr['bmw'].sum()).value_counts()\n",
    "s_chrysler=pd.Series(attr['chrysler'].sum()).value_counts()\n",
    "s_audi=pd.Series(attr['audi'].sum()).value_counts()\n",
    "s_honda=pd.Series(attr['honda'].sum()).value_counts()\n",
    "s_acura=pd.Series(attr['acura'].sum()).value_counts()\n",
    "df_attr=pd.concat((s_bmw,s_chrysler,s_audi,s_honda,s_acura),axis=1,sort=False)\n",
    "df_attr.columns=top_brand"
   ]
  },
  {
   "cell_type": "code",
   "execution_count": 261,
   "metadata": {},
   "outputs": [
    {
     "data": {
      "text/html": [
       "<div>\n",
       "<style scoped>\n",
       "    .dataframe tbody tr th:only-of-type {\n",
       "        vertical-align: middle;\n",
       "    }\n",
       "\n",
       "    .dataframe tbody tr th {\n",
       "        vertical-align: top;\n",
       "    }\n",
       "\n",
       "    .dataframe thead th {\n",
       "        text-align: right;\n",
       "    }\n",
       "</style>\n",
       "<table border=\"1\" class=\"dataframe\">\n",
       "  <thead>\n",
       "    <tr style=\"text-align: right;\">\n",
       "      <th></th>\n",
       "      <th>bmw</th>\n",
       "      <th>chrysler</th>\n",
       "      <th>audi</th>\n",
       "      <th>honda</th>\n",
       "      <th>acura</th>\n",
       "    </tr>\n",
       "  </thead>\n",
       "  <tbody>\n",
       "    <tr>\n",
       "      <th>performance</th>\n",
       "      <td>454</td>\n",
       "      <td>1.0</td>\n",
       "      <td>504</td>\n",
       "      <td>59.0</td>\n",
       "      <td>277</td>\n",
       "    </tr>\n",
       "    <tr>\n",
       "      <th>cost</th>\n",
       "      <td>76</td>\n",
       "      <td>NaN</td>\n",
       "      <td>84</td>\n",
       "      <td>12.0</td>\n",
       "      <td>45</td>\n",
       "    </tr>\n",
       "    <tr>\n",
       "      <th>sustainability</th>\n",
       "      <td>74</td>\n",
       "      <td>2.0</td>\n",
       "      <td>79</td>\n",
       "      <td>7.0</td>\n",
       "      <td>24</td>\n",
       "    </tr>\n",
       "    <tr>\n",
       "      <th>comfort</th>\n",
       "      <td>64</td>\n",
       "      <td>3.0</td>\n",
       "      <td>92</td>\n",
       "      <td>13.0</td>\n",
       "      <td>54</td>\n",
       "    </tr>\n",
       "    <tr>\n",
       "      <th>mpg</th>\n",
       "      <td>38</td>\n",
       "      <td>NaN</td>\n",
       "      <td>71</td>\n",
       "      <td>14.0</td>\n",
       "      <td>30</td>\n",
       "    </tr>\n",
       "    <tr>\n",
       "      <th>appearance</th>\n",
       "      <td>28</td>\n",
       "      <td>1.0</td>\n",
       "      <td>36</td>\n",
       "      <td>10.0</td>\n",
       "      <td>22</td>\n",
       "    </tr>\n",
       "    <tr>\n",
       "      <th>safety</th>\n",
       "      <td>21</td>\n",
       "      <td>NaN</td>\n",
       "      <td>39</td>\n",
       "      <td>7.0</td>\n",
       "      <td>13</td>\n",
       "    </tr>\n",
       "    <tr>\n",
       "      <th>emission</th>\n",
       "      <td>4</td>\n",
       "      <td>NaN</td>\n",
       "      <td>3</td>\n",
       "      <td>NaN</td>\n",
       "      <td>4</td>\n",
       "    </tr>\n",
       "  </tbody>\n",
       "</table>\n",
       "</div>"
      ],
      "text/plain": [
       "                bmw  chrysler  audi  honda  acura\n",
       "performance     454       1.0   504   59.0    277\n",
       "cost             76       NaN    84   12.0     45\n",
       "sustainability   74       2.0    79    7.0     24\n",
       "comfort          64       3.0    92   13.0     54\n",
       "mpg              38       NaN    71   14.0     30\n",
       "appearance       28       1.0    36   10.0     22\n",
       "safety           21       NaN    39    7.0     13\n",
       "emission          4       NaN     3    NaN      4"
      ]
     },
     "execution_count": 261,
     "metadata": {},
     "output_type": "execute_result"
    }
   ],
   "source": [
    "df_attr"
   ]
  },
  {
   "cell_type": "markdown",
   "metadata": {},
   "source": [
    "## Task D: \n",
    "#### What advice will you give to a (i) product manager, and (ii) marketing/advertising manager of these brands based on your analysis in Task C? For this assignment, you can assume the sentiment (e.g., that it is positive). "
   ]
  },
  {
   "cell_type": "markdown",
   "metadata": {},
   "source": []
  },
  {
   "cell_type": "markdown",
   "metadata": {},
   "source": [
    "## Task E: \n",
    "#### Which is the most aspirational brand in your data in terms of people actually wanting to buy or own? Describe your analysis. What are the business implications for this brand?"
   ]
  },
  {
   "cell_type": "markdown",
   "metadata": {},
   "source": [
    "The question requires us to find the most aspirational brands, here we are taking into account aspirational bigrams mentioned below and calculating the lift between them and the brands in each post. The brand with the highest lift indicates a larger aspiration rate. We have taken a limit of +5 and -5 words from the location of the brand to avoid influence by the occurences of other brands on the brand in focus.\n",
    "\n",
    "Calculation of lift: Lift = P(A,B)/(P(A) P(B)) = (n(A,B) N)/ (n(A) * n(B)) \n",
    "In our case, A -> Brand B -> Aspiration words N -> number of posts \n",
    "P(A,B) = n(A,B)/N n(A,B) -> number of posts for each brand which indicates aspiration\n",
    "P(A) ->n(A)/N n(A) -> number of posts which have a brand influence\n",
    "P(B) ->n(B)/N n(B) -> For each brand,the number of brands which indicate aspiration to buy the car!"
   ]
  },
  {
   "cell_type": "code",
   "execution_count": 268,
   "metadata": {},
   "outputs": [],
   "source": [
    "#filterv and filterv2 have the aspirational bigram combinations\n",
    "filterv = ['love','hope','want','wish','dream','desire','crave','buy','purchase','wanted','always']\n",
    "filterv1= ['hope','want','wish','dream','desire','crave','buy','purchase','wanted','always']\n",
    "filterv2 = ['to','have','car','it','of','this']\n",
    "filter_set = set(filterv)\n",
    "filter_set2 = set(filterv2)\n",
    "\n",
    "#function to return the occurence of aspirtaional bigrams for every brand\n",
    "def find(brand,text):\n",
    "    list_bg = []\n",
    "    if(brand in text):\n",
    "        f=features(brand,text)\n",
    "        bg = list(zip(*[f[i:] for i in range(2)]))\n",
    "        for i,j in enumerate(bg):\n",
    "                if(len(j) != 0):\n",
    "#                     if((j[0] in filter_set) & (j[1] in filter_set2)):\n",
    "                      if((j[0] in filter_set)):\n",
    "                         list_bg.append(j)\n",
    "        return len(list_bg)"
   ]
  },
  {
   "cell_type": "code",
   "execution_count": 269,
   "metadata": {},
   "outputs": [],
   "source": [
    "brand_asp = {}\n",
    "for brand in brands:\n",
    "    brand_asp[brand] = posts_nopun.map(lambda x: find(brand,x))"
   ]
  },
  {
   "cell_type": "code",
   "execution_count": 270,
   "metadata": {},
   "outputs": [],
   "source": [
    "#Creating a dataframe to calculate number of posts with aspirations for every brand(asp_brand) \n",
    "#and number of posts with aspirations\n",
    "\n",
    "asp_table = pd.DataFrame(columns = brands)\n",
    "for brand in brands:\n",
    "    asp_table[brand]=brand_asp[brand]\n",
    "asp_table2 = asp_table.fillna(0)\n",
    "\n",
    "asp_entries = asp_table2.sum(axis=1)\n",
    "asp_brand = asp_table2[asp_table2 > 0].count(axis = 0)\n",
    "no_asp = 0\n",
    "for i in asp_entries.iteritems():\n",
    "    if(i[1]>0):\n",
    "        no_asp +=1"
   ]
  },
  {
   "cell_type": "code",
   "execution_count": 176,
   "metadata": {},
   "outputs": [],
   "source": [
    "# asp_table"
   ]
  },
  {
   "cell_type": "code",
   "execution_count": 271,
   "metadata": {},
   "outputs": [],
   "source": [
    "#Calculating number of posts with brands mentioned\n",
    "#Creating a dataframe with required values to calculate lift\n",
    "bc = []\n",
    "aspiration = pd.DataFrame(columns=['brand','asp_brand_count','brand_occurence'])\n",
    "aspiration['brand'] = brands\n",
    "for brand in brands:\n",
    "    count = 0\n",
    "    for i in asp_table[brand].iteritems():\n",
    "        if(math.isnan(i[1]) == False):\n",
    "            count = count + 1\n",
    "    bc.append(count)\n",
    "aspiration['asp_brand_count'] = asp_brand.values\n",
    "aspiration['brand_occurence'] = bc"
   ]
  },
  {
   "cell_type": "code",
   "execution_count": 272,
   "metadata": {},
   "outputs": [
    {
     "name": "stdout",
     "output_type": "stream",
     "text": [
      "Top 5 Aspirational brands:\n"
     ]
    },
    {
     "data": {
      "text/html": [
       "<div>\n",
       "<style scoped>\n",
       "    .dataframe tbody tr th:only-of-type {\n",
       "        vertical-align: middle;\n",
       "    }\n",
       "\n",
       "    .dataframe tbody tr th {\n",
       "        vertical-align: top;\n",
       "    }\n",
       "\n",
       "    .dataframe thead th {\n",
       "        text-align: right;\n",
       "    }\n",
       "</style>\n",
       "<table border=\"1\" class=\"dataframe\">\n",
       "  <thead>\n",
       "    <tr style=\"text-align: right;\">\n",
       "      <th></th>\n",
       "      <th>brand</th>\n",
       "      <th>asp_brand_count</th>\n",
       "      <th>brand_occurence</th>\n",
       "      <th>lift</th>\n",
       "    </tr>\n",
       "  </thead>\n",
       "  <tbody>\n",
       "    <tr>\n",
       "      <th>12</th>\n",
       "      <td>kia</td>\n",
       "      <td>8</td>\n",
       "      <td>81</td>\n",
       "      <td>2.198374</td>\n",
       "    </tr>\n",
       "    <tr>\n",
       "      <th>21</th>\n",
       "      <td>subaru</td>\n",
       "      <td>5</td>\n",
       "      <td>69</td>\n",
       "      <td>1.612937</td>\n",
       "    </tr>\n",
       "    <tr>\n",
       "      <th>2</th>\n",
       "      <td>bmw</td>\n",
       "      <td>59</td>\n",
       "      <td>927</td>\n",
       "      <td>1.416671</td>\n",
       "    </tr>\n",
       "    <tr>\n",
       "      <th>23</th>\n",
       "      <td>toyota</td>\n",
       "      <td>6</td>\n",
       "      <td>98</td>\n",
       "      <td>1.362768</td>\n",
       "    </tr>\n",
       "    <tr>\n",
       "      <th>5</th>\n",
       "      <td>chevrolet</td>\n",
       "      <td>3</td>\n",
       "      <td>56</td>\n",
       "      <td>1.192422</td>\n",
       "    </tr>\n",
       "  </tbody>\n",
       "</table>\n",
       "</div>"
      ],
      "text/plain": [
       "        brand  asp_brand_count  brand_occurence      lift\n",
       "12        kia                8               81  2.198374\n",
       "21     subaru                5               69  1.612937\n",
       "2         bmw               59              927  1.416671\n",
       "23     toyota                6               98  1.362768\n",
       "5   chevrolet                3               56  1.192422"
      ]
     },
     "execution_count": 272,
     "metadata": {},
     "output_type": "execute_result"
    }
   ],
   "source": [
    "#Calculate lift for each brand = (n(posts with brand & aspiration)*len(posts))/(n(posts with aspirations)*n(posts with brand))\n",
    "aspiration['lift'] = (aspiration['asp_brand_count']*len(posts_nopun))/(no_asp * aspiration['brand_occurence'])\n",
    "print(\"Top 5 Aspirational brands:\")\n",
    "aspiration.sort_values(by='lift',ascending=False)[:5]"
   ]
  }
 ],
 "metadata": {
  "kernelspec": {
   "display_name": "Python 3",
   "language": "python",
   "name": "python3"
  },
  "language_info": {
   "codemirror_mode": {
    "name": "ipython",
    "version": 3
   },
   "file_extension": ".py",
   "mimetype": "text/x-python",
   "name": "python",
   "nbconvert_exporter": "python",
   "pygments_lexer": "ipython3",
   "version": "3.6.5"
  }
 },
 "nbformat": 4,
 "nbformat_minor": 2
}
