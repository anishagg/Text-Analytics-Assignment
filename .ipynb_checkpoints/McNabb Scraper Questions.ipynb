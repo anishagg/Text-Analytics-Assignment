{
 "cells": [
  {
   "cell_type": "code",
   "execution_count": 1,
   "metadata": {},
   "outputs": [],
   "source": [
    "#import webdrive and the chromepath from my files\n",
    "from selenium import webdriver\n",
    "chrome_path = r'/Users/cathe/Documents/chromedriver'"
   ]
  },
  {
   "cell_type": "code",
   "execution_count": 2,
   "metadata": {},
   "outputs": [],
   "source": [
    "#create the driver\n",
    "driver = webdriver.Chrome(chrome_path)"
   ]
  },
  {
   "cell_type": "code",
   "execution_count": 3,
   "metadata": {},
   "outputs": [],
   "source": [
    "#get the right webpage\n",
    "driver.get(\"https://forums.edmunds.com/discussions/tagged/x/hybrids-evs/p4\") "
   ]
  },
  {
   "cell_type": "code",
   "execution_count": 4,
   "metadata": {},
   "outputs": [],
   "source": [
    "# right-click on the html element and copy xpath\n",
    "driver.find_element_by_xpath(\"\"\"//*[@id=\"Discussion_11187\"]/div/div[1]/a\"\"\" ).click()"
   ]
  },
  {
   "cell_type": "code",
   "execution_count": 5,
   "metadata": {},
   "outputs": [],
   "source": [
    "#get classes for the actual message, the author and the number of posts\n",
    "messages = driver.find_elements_by_class_name('Item-Body')\n",
    "userids = driver.find_elements_by_class_name('Author')\n",
    "postnums = driver.find_elements_by_class_name('AuthorInfo')"
   ]
  },
  {
   "cell_type": "code",
   "execution_count": 11,
   "metadata": {},
   "outputs": [],
   "source": [
    "#create list of text for each column\n",
    "edmund_list = []\n",
    "for message in messages:\n",
    "    edmund_list.append(message.text)\n",
    "\n",
    "user_list = []\n",
    "for userid in userids:\n",
    "    user_list.append(userid.text)\n",
    "\n",
    "postnum_list = []\n",
    "for postnum in postnums:\n",
    "    postnum_list.append(postnum.text)"
   ]
  },
  {
   "cell_type": "code",
   "execution_count": null,
   "metadata": {},
   "outputs": [],
   "source": []
  },
  {
   "cell_type": "code",
   "execution_count": 8,
   "metadata": {},
   "outputs": [],
   "source": [
    "#turn edmunds list into dataframe after importing pandas\n",
    "import pandas as pd\n",
    "edmunds = pd.DataFrame(edmund_list)"
   ]
  },
  {
   "cell_type": "code",
   "execution_count": 12,
   "metadata": {},
   "outputs": [],
   "source": [
    "#add columns for author and number of posts\n",
    "edmunds['author'] = user_list\n",
    "edmunds['postnum'] = postnum_list"
   ]
  },
  {
   "cell_type": "code",
   "execution_count": 22,
   "metadata": {},
   "outputs": [
    {
     "data": {
      "text/html": [
       "<div>\n",
       "<style scoped>\n",
       "    .dataframe tbody tr th:only-of-type {\n",
       "        vertical-align: middle;\n",
       "    }\n",
       "\n",
       "    .dataframe tbody tr th {\n",
       "        vertical-align: top;\n",
       "    }\n",
       "\n",
       "    .dataframe thead th {\n",
       "        text-align: right;\n",
       "    }\n",
       "</style>\n",
       "<table border=\"1\" class=\"dataframe\">\n",
       "  <thead>\n",
       "    <tr style=\"text-align: right;\">\n",
       "      <th></th>\n",
       "      <th>0</th>\n",
       "      <th>author</th>\n",
       "      <th>postnum</th>\n",
       "    </tr>\n",
       "  </thead>\n",
       "  <tbody>\n",
       "    <tr>\n",
       "      <th>0</th>\n",
       "      <td>I don't know about you, but I'm apprehensive a...</td>\n",
       "      <td>hpmctorque</td>\n",
       "      <td>Posts: 4,600</td>\n",
       "    </tr>\n",
       "    <tr>\n",
       "      <th>1</th>\n",
       "      <td>Exciting to Drive - probably not so much.\\n\\nE...</td>\n",
       "      <td>larsb</td>\n",
       "      <td>Posts: 8,204</td>\n",
       "    </tr>\n",
       "    <tr>\n",
       "      <th>2</th>\n",
       "      <td>In the upcoming brave new world of centralized...</td>\n",
       "      <td>fintail</td>\n",
       "      <td>Posts: 45,482</td>\n",
       "    </tr>\n",
       "    <tr>\n",
       "      <th>3</th>\n",
       "      <td>Transportation pods? You been talking to lemko...</td>\n",
       "      <td>fezo</td>\n",
       "      <td>Manahawkin, NJPosts: 10,350</td>\n",
       "    </tr>\n",
       "    <tr>\n",
       "      <th>4</th>\n",
       "      <td>We have been, and are being, moved towards poi...</td>\n",
       "      <td>boaz47</td>\n",
       "      <td>Posts: 2,751</td>\n",
       "    </tr>\n",
       "  </tbody>\n",
       "</table>\n",
       "</div>"
      ],
      "text/plain": [
       "                                                   0      author  \\\n",
       "0  I don't know about you, but I'm apprehensive a...  hpmctorque   \n",
       "1  Exciting to Drive - probably not so much.\\n\\nE...       larsb   \n",
       "2  In the upcoming brave new world of centralized...     fintail   \n",
       "3  Transportation pods? You been talking to lemko...        fezo   \n",
       "4  We have been, and are being, moved towards poi...      boaz47   \n",
       "\n",
       "                       postnum  \n",
       "0                 Posts: 4,600  \n",
       "1                 Posts: 8,204  \n",
       "2                Posts: 45,482  \n",
       "3  Manahawkin, NJPosts: 10,350  \n",
       "4                 Posts: 2,751  "
      ]
     },
     "execution_count": 22,
     "metadata": {},
     "output_type": "execute_result"
    }
   ],
   "source": [
    "edmunds['postnum'] = edmunds['postnum'].str.lstrip(\": \")\n",
    "edmunds[:5]"
   ]
  },
  {
   "cell_type": "code",
   "execution_count": null,
   "metadata": {},
   "outputs": [],
   "source": []
  }
 ],
 "metadata": {
  "kernelspec": {
   "display_name": "Python [conda env:py36]",
   "language": "python",
   "name": "conda-env-py36-py"
  },
  "language_info": {
   "codemirror_mode": {
    "name": "ipython",
    "version": 3
   },
   "file_extension": ".py",
   "mimetype": "text/x-python",
   "name": "python",
   "nbconvert_exporter": "python",
   "pygments_lexer": "ipython3",
   "version": "3.6.6"
  }
 },
 "nbformat": 4,
 "nbformat_minor": 2
}
